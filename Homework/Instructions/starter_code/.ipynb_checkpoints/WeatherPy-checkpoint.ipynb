{
 "cells": [
  {
   "cell_type": "markdown",
   "metadata": {},
   "source": [
    "# WeatherPy\n",
    "----\n",
    "\n",
    "### Analysis\n",
    "* As expected, the weather becomes significantly warmer as one approaches the equator (0 Deg. Latitude). More interestingly, however, is the fact that the southern hemisphere tends to be warmer this time of year than the northern hemisphere. This may be due to the tilt of the earth.\n",
    "* There is no strong relationship between latitude and cloudiness. However, it is interesting to see that a strong band of cities sits at 0, 80, and 100% cloudiness.\n",
    "* There is no strong relationship between latitude and wind speed. However, in northern hemispheres there is a flurry of cities with over 20 mph of wind.\n",
    "\n",
    "---\n",
    "\n",
    "#### Note\n",
    "* Instructions have been included for each segment. You do not have to follow them exactly, but they are included to help you think through the steps."
   ]
  },
  {
   "cell_type": "code",
   "execution_count": 23,
   "metadata": {
    "scrolled": true
   },
   "outputs": [],
   "source": [
    "# Dependencies and Setup\n",
    "import matplotlib.pyplot as plt\n",
    "import pandas as pd\n",
    "import numpy as np\n",
    "import requests\n",
    "import time\n",
    "from pprint import pprint\n",
    "\n",
    "# Import API key\n",
    "from api_keys import api_key\n",
    "\n",
    "# Incorporated citipy to determine city based on latitude and longitude\n",
    "from citipy import citipy\n",
    "\n",
    "# Output File (CSV)\n",
    "output_data_file = \"output_data/cities.csv\"\n",
    "\n",
    "# Range of latitudes and longitudes\n",
    "lat_range = (-90, 90)\n",
    "lng_range = (-180, 180)"
   ]
  },
  {
   "cell_type": "markdown",
   "metadata": {},
   "source": [
    "## Generate Cities List"
   ]
  },
  {
   "cell_type": "code",
   "execution_count": 24,
   "metadata": {},
   "outputs": [
    {
     "data": {
      "text/plain": [
       "628"
      ]
     },
     "execution_count": 24,
     "metadata": {},
     "output_type": "execute_result"
    }
   ],
   "source": [
    "# List for holding lat_lngs and cities\n",
    "lat_lngs = []\n",
    "cities = []\n",
    "\n",
    "# Create a set of random lat and lng combinations\n",
    "lats = np.random.uniform(low=-90.000, high=90.000, size=1500)\n",
    "lngs = np.random.uniform(low=-180.000, high=180.000, size=1500)\n",
    "lat_lngs = zip(lats, lngs)\n",
    "\n",
    "# Identify nearest city for each lat, lng combination\n",
    "for lat_lng in lat_lngs:\n",
    "    city = citipy.nearest_city(lat_lng[0], lat_lng[1]).city_name\n",
    "    \n",
    "    # If the city is unique, then add it to a our cities list\n",
    "    if city not in cities:\n",
    "        cities.append(city)\n",
    "\n",
    "# Print the city count to confirm sufficient count\n",
    "len(cities)"
   ]
  },
  {
   "cell_type": "markdown",
   "metadata": {},
   "source": [
    "### Perform API Calls\n",
    "* Perform a weather check on each city using a series of successive API calls.\n",
    "* Include a print log of each city as it'sbeing processed (with the city number and city name).\n"
   ]
  },
  {
   "cell_type": "code",
   "execution_count": 25,
   "metadata": {},
   "outputs": [
    {
     "data": {
      "text/plain": [
       "628"
      ]
     },
     "execution_count": 25,
     "metadata": {},
     "output_type": "execute_result"
    }
   ],
   "source": [
    "cities_df = pd.DataFrame(cities)\n",
    "cities_name_df = cities_df.rename(columns = {0:\"city\"})\n",
    "cities_name = cities_name_df[\"city\"].tolist()\n",
    "len(cities_name)"
   ]
  },
  {
   "cell_type": "markdown",
   "metadata": {},
   "source": [
    "### Convert Raw Data to DataFrame\n",
    "* Export the city data into a .csv.\n",
    "* Display the DataFrame"
   ]
  },
  {
   "cell_type": "code",
   "execution_count": 26,
   "metadata": {},
   "outputs": [],
   "source": [
    "city_1='Philadelphia'\n",
    "units='imperial'\n",
    "url = \"http://api.openweathermap.org/data/2.5/weather?\""
   ]
  },
  {
   "cell_type": "code",
   "execution_count": 27,
   "metadata": {},
   "outputs": [
    {
     "data": {
      "text/plain": [
       "{'coord': {'lon': -75.16, 'lat': 39.95},\n",
       " 'weather': [{'id': 501,\n",
       "   'main': 'Rain',\n",
       "   'description': 'moderate rain',\n",
       "   'icon': '10d'},\n",
       "  {'id': 701, 'main': 'Mist', 'description': 'mist', 'icon': '50d'},\n",
       "  {'id': 300,\n",
       "   'main': 'Drizzle',\n",
       "   'description': 'light intensity drizzle',\n",
       "   'icon': '09d'}],\n",
       " 'base': 'stations',\n",
       " 'main': {'temp': 56.01,\n",
       "  'pressure': 1015,\n",
       "  'humidity': 100,\n",
       "  'temp_min': 53.6,\n",
       "  'temp_max': 59},\n",
       " 'visibility': 8047,\n",
       " 'wind': {'speed': 8.05, 'deg': 180},\n",
       " 'rain': {'1h': 1.32},\n",
       " 'clouds': {'all': 90},\n",
       " 'dt': 1546015440,\n",
       " 'sys': {'type': 1,\n",
       "  'id': 4743,\n",
       "  'message': 0.0073,\n",
       "  'country': 'US',\n",
       "  'sunrise': 1545999704,\n",
       "  'sunset': 1546033414},\n",
       " 'id': 4560349,\n",
       " 'name': 'Philadelphia',\n",
       " 'cod': 200}"
      ]
     },
     "execution_count": 27,
     "metadata": {},
     "output_type": "execute_result"
    }
   ],
   "source": [
    "response = requests.get(url + \"&appid=\" + api_key+ \"&units=\"+ units + \"&q=\" + city_1).json()\n",
    "\n",
    "response"
   ]
  },
  {
   "cell_type": "code",
   "execution_count": null,
   "metadata": {},
   "outputs": [],
   "source": [
    "name=[]\n",
    "Cloudiness=[]\n",
    "Country=[]\n",
    "Date=[]\n",
    "Humidity=[]\n",
    "Lat=[]\n",
    "Lng=[]\n",
    "Max_Temp=[]\n",
    "Wind=[]\n",
    "\n",
    "for city in cities_name:\n",
    "    try:\n",
    "        response = requests.get(url + \"&appid=\" + api_key+ \"&units=\"+ units + \"&q=\" + city).json()\n",
    "        Wind.append(response['wind']['deg'])\n",
    "        Cloudiness.append(response['clouds']['all'])\n",
    "        Country.append(response['sys']['country'])\n",
    "        Date.append(response['dt'])\n",
    "        Humidity.append(response['main']['humidity'])\n",
    "        Lat.append(response['coord']['lat'])\n",
    "        Lng.append(response['coord']['lon'])\n",
    "        Max_Temp.append(response['main']['temp_max'])\n",
    "        name.append(response['name'])\n",
    "    except:\n",
    "        pass"
   ]
  },
  {
   "cell_type": "code",
   "execution_count": null,
   "metadata": {},
   "outputs": [],
   "source": [
    "print (len(Country))"
   ]
  },
  {
   "cell_type": "code",
   "execution_count": null,
   "metadata": {},
   "outputs": [],
   "source": [
    "weather_dict = {\n",
    "    \"city\": name,\n",
    "    \"country\": Country,\n",
    "    \"date\": Date,\n",
    "    \"lat\": Lat,\n",
    "    \"lng\": Lng,\n",
    "    \"temp\": Max_Temp,\n",
    "    \"humidity\": Humidity,\n",
    "    \"cloudiness\": Cloudiness,\n",
    "    \"wind\": Wind\n",
    "}\n",
    "\n",
    "weather_data = pd.DataFrame(weather_dict)\n",
    "weather_data.head()"
   ]
  },
  {
   "cell_type": "code",
   "execution_count": null,
   "metadata": {},
   "outputs": [],
   "source": [
    "#Creating CSV file \n",
    "weather_data.to_csv(\"Weather Data\")"
   ]
  },
  {
   "cell_type": "markdown",
   "metadata": {},
   "source": [
    "### Plotting the Data\n",
    "* Use proper labeling of the plots using plot titles (including date of analysis) and axes labels.\n",
    "* Save the plotted figures as .pngs."
   ]
  },
  {
   "cell_type": "markdown",
   "metadata": {},
   "source": [
    "#### Latitude vs. Temperature Plot"
   ]
  },
  {
   "cell_type": "code",
   "execution_count": null,
   "metadata": {},
   "outputs": [],
   "source": [
    "plt.scatter(weather_data['lat'],weather_data['temp'],color = \"blue\", edgecolors=\"black\", alpha=0.5)\n",
    "\n",
    "plt.title(\"City Latitude vs Max Temperature\")\n",
    "plt.xlabel(\"Latitude\")\n",
    "plt.ylabel(\"Max Temp (F)\")\n",
    "plt.grid(True)\n",
    "\n",
    "\n",
    "plt.savefig('output_data/Lat_vs_Temp.png')"
   ]
  },
  {
   "cell_type": "markdown",
   "metadata": {},
   "source": [
    "#### Latitude vs. Humidity Plot"
   ]
  },
  {
   "cell_type": "code",
   "execution_count": null,
   "metadata": {},
   "outputs": [],
   "source": [
    "plt.scatter(weather_data['lat'],weather_data['humidity'],color = \"blue\", edgecolors=\"black\", alpha=0.5)\n",
    "\n",
    "plt.title(\"City Latitude vs Humidity\")\n",
    "plt.xlabel(\"Latitude\")\n",
    "plt.ylabel(\"Humidity\")\n",
    "plt.grid(True)\n",
    "\n",
    "plt.savefig('output_data/Lat_vs_Humid.png')\n"
   ]
  },
  {
   "cell_type": "markdown",
   "metadata": {},
   "source": [
    "#### Latitude vs. Cloudiness Plot"
   ]
  },
  {
   "cell_type": "code",
   "execution_count": null,
   "metadata": {},
   "outputs": [],
   "source": [
    "plt.scatter(weather_data['lat'],weather_data['cloudiness'],color = \"blue\", edgecolors=\"black\", alpha=0.5)\n",
    "\n",
    "plt.title(\"City Latitude vs Cloudiness\")\n",
    "plt.xlabel(\"Latitude\")\n",
    "plt.ylabel(\"Cloudiness\")\n",
    "plt.grid(True)\n",
    "\n",
    "plt.savefig('output_data/Lat_vs_Cloud.png')\n"
   ]
  },
  {
   "cell_type": "markdown",
   "metadata": {},
   "source": [
    "#### Latitude vs. Wind Speed Plot"
   ]
  },
  {
   "cell_type": "code",
   "execution_count": null,
   "metadata": {
    "scrolled": true
   },
   "outputs": [],
   "source": [
    "plt.scatter(weather_data['lat'],weather_data['wind'],color = \"blue\", edgecolors=\"black\", alpha=0.5)\n",
    "\n",
    "plt.title(\"City Latitude vs Wind Speed\")\n",
    "plt.xlabel(\"Latitude\")\n",
    "plt.ylabel(\"Wind Speed\")\n",
    "plt.grid(True)\n",
    "\n",
    "plt.savefig('output_data/Lat_vs_Wind.png')\n"
   ]
  }
 ],
 "metadata": {
  "anaconda-cloud": {},
  "kernelspec": {
   "display_name": "Python 3",
   "language": "python",
   "name": "python3"
  },
  "language_info": {
   "codemirror_mode": {
    "name": "ipython",
    "version": 3
   },
   "file_extension": ".py",
   "mimetype": "text/x-python",
   "name": "python",
   "nbconvert_exporter": "python",
   "pygments_lexer": "ipython3",
   "version": "3.7.0"
  }
 },
 "nbformat": 4,
 "nbformat_minor": 2
}
